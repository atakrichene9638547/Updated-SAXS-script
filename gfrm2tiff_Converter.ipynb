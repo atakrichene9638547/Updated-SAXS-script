{
 "cells": [
  {
   "cell_type": "code",
   "execution_count": 1,
   "metadata": {},
   "outputs": [
    {
     "name": "stdout",
     "output_type": "stream",
     "text": [
      "Converting C:/Users/sapd/Desktop/ddff/DCSQI_annealed_27cm_18000s_unwarped.gfrm to C:/Users/sapd/Desktop/ddff/DCSQI_annealed_27cm_18000s_unwarped.tif\n",
      "Converting C:/Users/sapd/Desktop/ddff/DCSQI_non_annealed_27cm_18000s_unwarped.gfrm to C:/Users/sapd/Desktop/ddff/DCSQI_non_annealed_27cm_18000s_unwarped.tif\n"
     ]
    }
   ],
   "source": [
    "## Small-Angle X-ray Scattering ##\n",
    "\n",
    "## .gfrm to .tiff Converter (Version 1.2) ##\n",
    "\n",
    "## Empa, Center for X-ray Analytics, D.Sapalidis, St. Gallen, Switzerland, 22.12.2023 ##\n",
    "\n",
    "import os\n",
    "from PIL import Image\n",
    "import fabio\n",
    "\n",
    "def convert_gfrm_to_tif(input_dir, output_dir):\n",
    "    # File extension to search for\n",
    "    input_file_extension = '.gfrm'\n",
    "    \n",
    "    # Create the output_dir if it doesn't exist\n",
    "    os.makedirs(output_dir, exist_ok=True)\n",
    "\n",
    "    # Search for .gfrm files in the specified input directory\n",
    "    for root, dirs, files in os.walk(input_dir):\n",
    "        for file in files:\n",
    "            if file.endswith(input_file_extension):\n",
    "                # Create the absolute path of the input file\n",
    "                input_file_path = os.path.join(root, file)\n",
    "\n",
    "                # Create the file name without the extension\n",
    "                file_name, _ = os.path.splitext(file)\n",
    "\n",
    "                # Create the absolute path of the output file (.tif)\n",
    "                output_file_path = os.path.join(output_dir, f\"{file_name}.tif\")\n",
    "\n",
    "                # Print information about the selected file\n",
    "                print(f\"Converting {input_file_path} to {output_file_path}\")\n",
    "\n",
    "                try:\n",
    "                    # Open the .gfrm file using fabio\n",
    "                    gfrm_image = fabio.open(input_file_path)\n",
    "\n",
    "                    # Convert and save to .tif using Pillow\n",
    "                    tif_image = Image.fromarray(gfrm_image.data)\n",
    "                    tif_image.save(output_file_path)\n",
    "                except Exception as e:\n",
    "                    print(f\"An error occurred: {e}\")\n",
    "\n",
    "# Example usage of the function\n",
    "input_directory = \"C:/Users/sapd/Desktop/ddff/\"\n",
    "output_directory = \"C:/Users/sapd/Desktop/ddff/\"\n",
    "convert_gfrm_to_tif(input_directory, output_directory)\n"
   ]
  },
  {
   "cell_type": "markdown",
   "metadata": {},
   "source": []
  }
 ],
 "metadata": {
  "kernelspec": {
   "display_name": "base",
   "language": "python",
   "name": "python3"
  },
  "language_info": {
   "codemirror_mode": {
    "name": "ipython",
    "version": 3
   },
   "file_extension": ".py",
   "mimetype": "text/x-python",
   "name": "python",
   "nbconvert_exporter": "python",
   "pygments_lexer": "ipython3",
   "version": "3.11.5"
  }
 },
 "nbformat": 4,
 "nbformat_minor": 2
}
